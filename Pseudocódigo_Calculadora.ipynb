{
  "nbformat": 4,
  "nbformat_minor": 0,
  "metadata": {
    "colab": {
      "provenance": [],
      "authorship_tag": "ABX9TyMudWQ6yhVqeM+Vwj4MUMGw",
      "include_colab_link": true
    },
    "kernelspec": {
      "name": "python3",
      "display_name": "Python 3"
    },
    "language_info": {
      "name": "python"
    }
  },
  "cells": [
    {
      "cell_type": "markdown",
      "metadata": {
        "id": "view-in-github",
        "colab_type": "text"
      },
      "source": [
        "<a href=\"https://colab.research.google.com/github/Joycejesus/ProjetoAPI/blob/main/Pseudoc%C3%B3digo_Calculadora.ipynb\" target=\"_parent\"><img src=\"https://colab.research.google.com/assets/colab-badge.svg\" alt=\"Open In Colab\"/></a>"
      ]
    },
    {
      "cell_type": "markdown",
      "source": [
        "Convertendo o Peseudocódigo 1 em Programa Python"
      ],
      "metadata": {
        "id": "b4KQoKWdEav5"
      }
    },
    {
      "cell_type": "code",
      "source": [
        "print('Bem-vindo ao calculadora de área de paralelograma')"
      ],
      "metadata": {
        "colab": {
          "base_uri": "https://localhost:8080/"
        },
        "id": "04DuMTFbEim5",
        "outputId": "7e2f33bc-bad0-41e0-b3c7-12a251339334"
      },
      "execution_count": 12,
      "outputs": [
        {
          "output_type": "stream",
          "name": "stdout",
          "text": [
            "Bem-vindo ao calculadora de área de paralelograma\n"
          ]
        }
      ]
    },
    {
      "cell_type": "code",
      "source": [
        "base = float(input(\"Insira o cumprimento da base:\"))"
      ],
      "metadata": {
        "colab": {
          "base_uri": "https://localhost:8080/"
        },
        "id": "3ueFFz94EyYP",
        "outputId": "4b870001-be13-4e4a-ca48-ac12b279ca2c"
      },
      "execution_count": 2,
      "outputs": [
        {
          "name": "stdout",
          "output_type": "stream",
          "text": [
            "Insira o cumprimento da base:4\n"
          ]
        }
      ]
    },
    {
      "cell_type": "code",
      "source": [
        "altura = float(input(\"Insera a altura:\"))"
      ],
      "metadata": {
        "colab": {
          "base_uri": "https://localhost:8080/"
        },
        "id": "IsxKO3sPEyVl",
        "outputId": "7feef06d-0b75-4390-9932-4f948fd84136"
      },
      "execution_count": 3,
      "outputs": [
        {
          "name": "stdout",
          "output_type": "stream",
          "text": [
            "Insera a altura:6\n"
          ]
        }
      ]
    },
    {
      "cell_type": "code",
      "source": [
        "area = base * altura"
      ],
      "metadata": {
        "id": "htYrJ-NWEyQH"
      },
      "execution_count": 4,
      "outputs": []
    },
    {
      "cell_type": "code",
      "source": [
        "print(\"A área do paralelograma é:\", area)"
      ],
      "metadata": {
        "colab": {
          "base_uri": "https://localhost:8080/"
        },
        "id": "apxPtJuCEyNW",
        "outputId": "fb0636ae-5c1a-4079-a57d-2f41eb8c0f4f"
      },
      "execution_count": 5,
      "outputs": [
        {
          "output_type": "stream",
          "name": "stdout",
          "text": [
            "A área do paralelograma é: 24.0\n"
          ]
        }
      ]
    },
    {
      "cell_type": "markdown",
      "source": [
        "Convertendo o Pseudocódigo 2 em Programa Python\n"
      ],
      "metadata": {
        "id": "OWgWXvOVGJjU"
      }
    },
    {
      "cell_type": "code",
      "source": [
        "print(\"Bem-vindo à Calculadora\")"
      ],
      "metadata": {
        "colab": {
          "base_uri": "https://localhost:8080/"
        },
        "id": "48IKJAj_EyKl",
        "outputId": "f86f7b9d-61a9-4f65-8268-57eb14074272"
      },
      "execution_count": 7,
      "outputs": [
        {
          "output_type": "stream",
          "name": "stdout",
          "text": [
            "Bem-vindo à Calculadora\n"
          ]
        }
      ]
    },
    {
      "cell_type": "code",
      "source": [
        "numl = float(input(\"Insira o primeiro número:\"))"
      ],
      "metadata": {
        "colab": {
          "base_uri": "https://localhost:8080/"
        },
        "id": "Xb7yjWm1EyHR",
        "outputId": "7bff49bd-0b04-422c-e91d-98a41f03b56f"
      },
      "execution_count": 8,
      "outputs": [
        {
          "name": "stdout",
          "output_type": "stream",
          "text": [
            "Insira o primeiro número:6\n"
          ]
        }
      ]
    },
    {
      "cell_type": "code",
      "source": [
        "num2 = float(input(\"Insira o segundo número:\"))"
      ],
      "metadata": {
        "colab": {
          "base_uri": "https://localhost:8080/"
        },
        "id": "5t32PpBMEyBl",
        "outputId": "a0607948-3cd5-4b57-aff0-251ed639902d"
      },
      "execution_count": 9,
      "outputs": [
        {
          "name": "stdout",
          "output_type": "stream",
          "text": [
            "Insira o segundo número:3\n"
          ]
        }
      ]
    },
    {
      "cell_type": "code",
      "source": [
        "operacao = input(\"Selecione uma operação (+, -, *, /): \")"
      ],
      "metadata": {
        "colab": {
          "base_uri": "https://localhost:8080/"
        },
        "id": "egUTPEntLFJi",
        "outputId": "41a32e2d-fd3a-411f-a9cd-b1262138ae39"
      },
      "execution_count": 10,
      "outputs": [
        {
          "name": "stdout",
          "output_type": "stream",
          "text": [
            "Selecione uma operação (+, -, *, /): +\n"
          ]
        }
      ]
    },
    {
      "cell_type": "code",
      "source": [
        "if operacao == \"+\":\n",
        "    resultado = numl + num2\n",
        "    print(\"O resultado é: \", resultado)\n",
        "  \n",
        "elif operacao == \"-\":\n",
        "     resultado = numl - num2\n",
        "     print(\"O resultado é: \", resultado)\n",
        "\n",
        "elif operacao == \"*\":\n",
        "     esultado = numl * num2\n",
        "     print(\"O resultado é: \", resultado)\n",
        "\n",
        "elif operacao == \"/\":\n",
        "     resultado = numl / num2\n",
        "     print(\"O resultado é: \", resultado)"
      ],
      "metadata": {
        "colab": {
          "base_uri": "https://localhost:8080/",
          "height": 235
        },
        "id": "C64VXABkLFA7",
        "outputId": "974e09de-b2bf-4901-c76f-670997a6d270"
      },
      "execution_count": 13,
      "outputs": [
        {
          "output_type": "error",
          "ename": "NameError",
          "evalue": "ignored",
          "traceback": [
            "\u001b[0;31m---------------------------------------------------------------------------\u001b[0m",
            "\u001b[0;31mNameError\u001b[0m                                 Traceback (most recent call last)",
            "\u001b[0;32m<ipython-input-13-e46e9867ce4b>\u001b[0m in \u001b[0;36m<cell line: 1>\u001b[0;34m()\u001b[0m\n\u001b[0;32m----> 1\u001b[0;31m \u001b[0;32mif\u001b[0m \u001b[0moperacao\u001b[0m \u001b[0;34m==\u001b[0m \u001b[0;34m\"+\"\u001b[0m\u001b[0;34m:\u001b[0m\u001b[0;34m\u001b[0m\u001b[0;34m\u001b[0m\u001b[0m\n\u001b[0m\u001b[1;32m      2\u001b[0m      \u001b[0mresultado\u001b[0m \u001b[0;34m=\u001b[0m \u001b[0mnuml\u001b[0m \u001b[0;34m+\u001b[0m \u001b[0mnum2\u001b[0m\u001b[0;34m\u001b[0m\u001b[0;34m\u001b[0m\u001b[0m\n\u001b[1;32m      3\u001b[0m      \u001b[0mprint\u001b[0m\u001b[0;34m(\u001b[0m\u001b[0;34m\"O resultado é: \"\u001b[0m\u001b[0;34m,\u001b[0m \u001b[0mresultado\u001b[0m\u001b[0;34m)\u001b[0m\u001b[0;34m\u001b[0m\u001b[0;34m\u001b[0m\u001b[0m\n\u001b[1;32m      4\u001b[0m \u001b[0;34m\u001b[0m\u001b[0m\n\u001b[1;32m      5\u001b[0m \u001b[0;32melif\u001b[0m \u001b[0moperacao\u001b[0m \u001b[0;34m==\u001b[0m \u001b[0;34m\"-\"\u001b[0m\u001b[0;34m:\u001b[0m\u001b[0;34m\u001b[0m\u001b[0;34m\u001b[0m\u001b[0m\n",
            "\u001b[0;31mNameError\u001b[0m: name 'operacao' is not defined"
          ]
        }
      ]
    },
    {
      "cell_type": "code",
      "source": [],
      "metadata": {
        "id": "IeN5duSZLE9-"
      },
      "execution_count": null,
      "outputs": []
    },
    {
      "cell_type": "code",
      "source": [],
      "metadata": {
        "id": "BYaT23kvLE6L"
      },
      "execution_count": null,
      "outputs": []
    },
    {
      "cell_type": "code",
      "source": [],
      "metadata": {
        "id": "jGWbvLw8LE2v"
      },
      "execution_count": null,
      "outputs": []
    }
  ]
}